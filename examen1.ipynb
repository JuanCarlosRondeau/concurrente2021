{
 "cells": [
  {
   "cell_type": "markdown",
   "id": "e67a75d7-e6bf-403a-8832-c3f553bb2cc1",
   "metadata": {},
   "source": [
    "<!-- PROFILE LINK -->\n",
    "\n",
    "<h1 style = \"text-align:center; font-size: 30px\">PROGRAMACIÓN CONCURRENTE Y DISTRIBUIDA</h1>\n",
    "<a href =\"https://github.com/JuanCarlosRondeau\">\n",
    "<img src=\"https://avatars.githubusercontent.com/u/61326801?v=4\" style=\"float:left;vertical-align:centre\" width=\"110\" height=\"110\" title = \"Christian Vlaldimir Sucuzhanay Arevalo 21535220\">\n",
    "<a href =\"https://github.com/JuanCarlosRondeau?tab=repositories\">\n",
    "<img src=\"https://media-exp1.licdn.com/dms/image/C4D0BAQEu_Aa76fcmPw/company-logo_200_200/0/1630998679429?e=2159024400&v=beta&t=2feC9GG7RWCWizTqsK5HzDWB1TL2DOQuAVwnMf6FFvk\" title = \"M41\" alt=\"UE\" width=\"110\" height=\"110\" style=\"float:right;vertical-align:centre\">"
   ]
  },
  {
   "cell_type": "markdown",
   "id": "dfa2afa3-832d-4b43-84c6-16db160222a4",
   "metadata": {},
   "source": [
    "# Examen 1"
   ]
  },
  {
   "cell_type": "markdown",
   "id": "15a71f01-7ba3-4fd1-aa39-67c1fffcf85b",
   "metadata": {},
   "source": [
    "## Parte 1"
   ]
  },
  {
   "cell_type": "code",
   "execution_count": 3,
   "id": "2639df38-5d4f-4333-ac82-5a13e76f85b7",
   "metadata": {},
   "outputs": [],
   "source": [
    "import threading, os, platform, requests, json"
   ]
  },
  {
   "cell_type": "code",
   "execution_count": 12,
   "id": "29786a65-b91c-4d1d-86e2-674181d2e2bb",
   "metadata": {},
   "outputs": [],
   "source": [
    "def master_uem(url):\n",
    "    print(requests.get(url))\n",
    "    threading.current_thread()\n",
    "    \n"
   ]
  },
  {
   "cell_type": "code",
   "execution_count": 14,
   "id": "f29715cb-a417-4351-ab15-c6911aeb4774",
   "metadata": {},
   "outputs": [],
   "source": [
    "urls=[\"https://github.com/sukuzhanay\",\"https://www.linkedin.com/in/sucuzhanay/\",\n",
    "      \"https://www.credly.com/users/christian-vladimir-sucuzhanay-arevalo/badges\",\n",
    "      \"https://stackoverflow.com/users/6025932/christian-vladimir-sucuzhanay\",\n",
    "      \"https://www.cloudskillsboost.google/public_profiles/c094dd66-f266-4f77-a808-a0601b187009\"]"
   ]
  },
  {
   "cell_type": "code",
   "execution_count": 15,
   "id": "d196707c-74b8-41d5-9c98-ef9167cc068f",
   "metadata": {},
   "outputs": [],
   "source": [
    "def atacar(url,num_veces):\n",
    "    for i in range(num_veces):\n",
    "        threading.Thread(target=master_uem(url)).start()"
   ]
  },
  {
   "cell_type": "code",
   "execution_count": 39,
   "id": "d6f67bb7-f8e2-4bc9-b2c9-404e63c40a45",
   "metadata": {},
   "outputs": [
    {
     "name": "stdout",
     "output_type": "stream",
     "text": [
      "<Response [200]>\n",
      "<Response [200]>\n",
      "<Response [200]>\n",
      "<Response [200]>\n",
      "<Response [200]>\n",
      "<Response [200]>\n",
      "<Response [200]>\n",
      "<Response [200]>\n",
      "<Response [200]>\n",
      "<Response [200]>\n",
      "<Response [200]>\n",
      "<Response [200]>\n",
      "<Response [200]>\n",
      "<Response [200]>\n",
      "<Response [200]>\n",
      "<Response [200]>\n",
      "<Response [200]>\n",
      "<Response [200]>\n",
      "<Response [200]>\n",
      "<Response [200]>\n",
      "<Response [200]>\n",
      "<Response [200]>\n",
      "<Response [200]>\n",
      "<Response [200]>\n",
      "<Response [200]>\n",
      "<Response [200]>\n",
      "<Response [200]>\n",
      "<Response [200]>\n",
      "<Response [200]>\n",
      "<Response [200]>\n",
      "<Response [200]>\n",
      "<Response [200]>\n",
      "<Response [200]>\n",
      "<Response [200]>\n",
      "<Response [200]>\n",
      "<Response [200]>\n",
      "<Response [200]>\n",
      "<Response [200]>\n",
      "<Response [200]>\n",
      "<Response [200]>\n",
      "<Response [200]>\n",
      "<Response [200]>\n",
      "<Response [200]>\n",
      "<Response [200]>\n",
      "<Response [200]>\n",
      "<Response [200]>\n",
      "<Response [200]>\n",
      "<Response [200]>\n",
      "<Response [200]>\n",
      "<Response [200]>\n",
      "<Response [200]>\n",
      "<Response [200]>\n",
      "<Response [200]>\n",
      "<Response [200]>\n",
      "<Response [200]>\n",
      "<Response [200]>\n",
      "<Response [200]>\n",
      "<Response [200]>\n",
      "<Response [200]>\n",
      "<Response [200]>\n",
      "<Response [200]>\n",
      "<Response [200]>\n",
      "<Response [200]>\n",
      "<Response [200]>\n",
      "<Response [200]>\n",
      "<Response [200]>\n",
      "<Response [200]>\n",
      "<Response [200]>\n",
      "<Response [200]>\n",
      "<Response [200]>\n",
      "<Response [200]>\n",
      "<Response [200]>\n",
      "<Response [200]>\n",
      "<Response [200]>\n",
      "<Response [200]>\n",
      "<Response [200]>\n",
      "<Response [200]>\n",
      "<Response [200]>\n",
      "<Response [200]>\n",
      "<Response [200]>\n",
      "<Response [200]>\n",
      "<Response [200]>\n",
      "<Response [200]>\n",
      "<Response [200]>\n",
      "<Response [200]>\n",
      "<Response [200]>\n",
      "<Response [200]>\n",
      "<Response [200]>\n",
      "<Response [200]>\n",
      "<Response [200]>\n",
      "<Response [200]>\n",
      "<Response [200]>\n",
      "<Response [429]>\n",
      "<Response [429]>\n",
      "<Response [429]>\n",
      "<Response [429]>\n",
      "<Response [429]>\n",
      "<Response [429]>\n",
      "<Response [429]>\n",
      "<Response [429]>\n"
     ]
    }
   ],
   "source": [
    "atacar(urls[0],100)"
   ]
  },
  {
   "cell_type": "code",
   "execution_count": 40,
   "id": "1f3227f5-ca58-419f-931d-217559f22ca9",
   "metadata": {},
   "outputs": [
    {
     "name": "stdout",
     "output_type": "stream",
     "text": [
      "<Response [999]>\n",
      "<Response [999]>\n",
      "<Response [999]>\n",
      "<Response [999]>\n",
      "<Response [999]>\n",
      "<Response [999]>\n",
      "<Response [999]>\n",
      "<Response [999]>\n",
      "<Response [999]>\n",
      "<Response [999]>\n",
      "<Response [999]>\n",
      "<Response [999]>\n",
      "<Response [999]>\n",
      "<Response [999]>\n",
      "<Response [999]>\n",
      "<Response [999]>\n",
      "<Response [999]>\n",
      "<Response [999]>\n",
      "<Response [999]>\n",
      "<Response [999]>\n",
      "<Response [999]>\n",
      "<Response [999]>\n",
      "<Response [999]>\n",
      "<Response [999]>\n",
      "<Response [999]>\n",
      "<Response [999]>\n",
      "<Response [999]>\n",
      "<Response [999]>\n",
      "<Response [999]>\n",
      "<Response [999]>\n",
      "<Response [999]>\n",
      "<Response [999]>\n",
      "<Response [999]>\n",
      "<Response [999]>\n",
      "<Response [999]>\n",
      "<Response [999]>\n",
      "<Response [999]>\n",
      "<Response [999]>\n",
      "<Response [999]>\n",
      "<Response [999]>\n",
      "<Response [999]>\n",
      "<Response [999]>\n",
      "<Response [999]>\n",
      "<Response [999]>\n",
      "<Response [999]>\n",
      "<Response [999]>\n",
      "<Response [999]>\n",
      "<Response [999]>\n",
      "<Response [999]>\n",
      "<Response [999]>\n"
     ]
    }
   ],
   "source": [
    "atacar(urls[1],50)"
   ]
  },
  {
   "cell_type": "code",
   "execution_count": 41,
   "id": "ac2d939c-528d-4039-81d2-af7528260fc0",
   "metadata": {},
   "outputs": [
    {
     "name": "stdout",
     "output_type": "stream",
     "text": [
      "<Response [200]>\n",
      "<Response [200]>\n",
      "<Response [200]>\n",
      "<Response [200]>\n",
      "<Response [200]>\n",
      "<Response [200]>\n",
      "<Response [200]>\n",
      "<Response [200]>\n",
      "<Response [200]>\n",
      "<Response [200]>\n",
      "<Response [200]>\n",
      "<Response [200]>\n",
      "<Response [200]>\n",
      "<Response [200]>\n",
      "<Response [200]>\n",
      "<Response [200]>\n",
      "<Response [200]>\n",
      "<Response [200]>\n",
      "<Response [200]>\n",
      "<Response [200]>\n"
     ]
    }
   ],
   "source": [
    "atacar(urls[2],20)\n"
   ]
  },
  {
   "cell_type": "code",
   "execution_count": 42,
   "id": "32b8ea2e-c975-4a48-8ee8-87e3324e1443",
   "metadata": {},
   "outputs": [
    {
     "name": "stdout",
     "output_type": "stream",
     "text": [
      "<Response [200]>\n",
      "<Response [200]>\n",
      "<Response [200]>\n",
      "<Response [200]>\n",
      "<Response [200]>\n",
      "<Response [200]>\n",
      "<Response [200]>\n",
      "<Response [200]>\n",
      "<Response [200]>\n",
      "<Response [200]>\n",
      "<Response [200]>\n",
      "<Response [200]>\n",
      "<Response [200]>\n",
      "<Response [200]>\n",
      "<Response [200]>\n",
      "<Response [200]>\n",
      "<Response [200]>\n",
      "<Response [200]>\n",
      "<Response [200]>\n",
      "<Response [200]>\n",
      "<Response [200]>\n",
      "<Response [200]>\n",
      "<Response [200]>\n",
      "<Response [200]>\n",
      "<Response [200]>\n",
      "<Response [200]>\n",
      "<Response [200]>\n",
      "<Response [200]>\n",
      "<Response [200]>\n",
      "<Response [200]>\n"
     ]
    }
   ],
   "source": [
    "atacar(urls[3],30)"
   ]
  },
  {
   "cell_type": "code",
   "execution_count": 43,
   "id": "c09bfac7-b7ca-472c-ad2c-82dee46a1c5e",
   "metadata": {},
   "outputs": [
    {
     "name": "stdout",
     "output_type": "stream",
     "text": [
      "<Response [200]>\n",
      "<Response [200]>\n",
      "<Response [200]>\n",
      "<Response [200]>\n",
      "<Response [200]>\n",
      "<Response [200]>\n",
      "<Response [200]>\n",
      "<Response [200]>\n",
      "<Response [200]>\n",
      "<Response [200]>\n",
      "<Response [200]>\n",
      "<Response [200]>\n",
      "<Response [200]>\n",
      "<Response [200]>\n",
      "<Response [200]>\n",
      "<Response [200]>\n",
      "<Response [200]>\n",
      "<Response [200]>\n",
      "<Response [200]>\n",
      "<Response [200]>\n"
     ]
    }
   ],
   "source": [
    "atacar(urls[4],20)"
   ]
  },
  {
   "cell_type": "markdown",
   "id": "2e8bdf7b-debe-418c-ad13-38f3df8ba370",
   "metadata": {},
   "source": [
    "## Parte 2"
   ]
  },
  {
   "cell_type": "code",
   "execution_count": 19,
   "id": "dbe5d5c0-6cb3-4871-b6c8-4d4408dbf73e",
   "metadata": {},
   "outputs": [],
   "source": [
    "url_drive=\"https://drive.google.com/uc?export=download&id=1ADxSr55eYTRSRF-44LXnKbY4n5bMWaY-\""
   ]
  },
  {
   "cell_type": "code",
   "execution_count": 21,
   "id": "3756c270-a961-47a3-880f-cb1cbb332a79",
   "metadata": {},
   "outputs": [],
   "source": [
    "import wget"
   ]
  },
  {
   "cell_type": "code",
   "execution_count": 36,
   "id": "e6a93096-b2a7-4e55-9074-e1496987cbbb",
   "metadata": {},
   "outputs": [],
   "source": [
    "def master_uem2(url):\n",
    "    print(requests.get(url))\n",
    "    threading.current_thread()\n",
    "    wget.download(url_drive,out=\"C:/Users/pitu/concurrente2023\")\n",
    "    print(\" \")"
   ]
  },
  {
   "cell_type": "code",
   "execution_count": 37,
   "id": "a1bc2935-566a-4764-bd5e-1a6c5b6ac4ba",
   "metadata": {},
   "outputs": [],
   "source": [
    "def descargar(url,num_veces):\n",
    "    for i in range(num_veces):\n",
    "        threading.Thread(target=master_uem2(url)).start()"
   ]
  },
  {
   "cell_type": "code",
   "execution_count": 38,
   "id": "19fca84d-cf44-48b2-bdd7-68b4620ce7f4",
   "metadata": {},
   "outputs": [
    {
     "name": "stdout",
     "output_type": "stream",
     "text": [
      "<Response [200]>\n",
      "100% [............................................................................] 986596 / 986596 \n",
      "<Response [200]>\n",
      "100% [............................................................................] 986596 / 986596 \n",
      "<Response [200]>\n",
      "100% [............................................................................] 986596 / 986596 \n",
      "<Response [200]>\n",
      "100% [............................................................................] 986596 / 986596 \n",
      "<Response [200]>\n",
      "100% [............................................................................] 986596 / 986596 \n"
     ]
    }
   ],
   "source": [
    "descargar(url_drive,5)"
   ]
  }
 ],
 "metadata": {
  "kernelspec": {
   "display_name": "Python 3 (ipykernel)",
   "language": "python",
   "name": "python3"
  },
  "language_info": {
   "codemirror_mode": {
    "name": "ipython",
    "version": 3
   },
   "file_extension": ".py",
   "mimetype": "text/x-python",
   "name": "python",
   "nbconvert_exporter": "python",
   "pygments_lexer": "ipython3",
   "version": "3.10.7"
  }
 },
 "nbformat": 4,
 "nbformat_minor": 5
}
