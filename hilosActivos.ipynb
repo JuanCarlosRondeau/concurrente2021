{
 "cells": [
  {
   "cell_type": "markdown",
   "id": "146db507-2128-4e36-a686-3e017849b50f",
   "metadata": {},
   "source": [
    "<!-- PROFILE LINK -->\n",
    "\n",
    "<h1 style = \"text-align:center; font-size: 30px\">PROGRAMACIÓN CONCURRENTE Y DISTRIBUIDA</h1>\n",
    "<a href =\"https://github.com/JuanCarlosRondeau\">\n",
    "<img src=\"https://avatars.githubusercontent.com/u/61326801?v=4\" style=\"float:left;vertical-align:centre\" width=\"110\" height=\"110\" title = \"Christian Vlaldimir Sucuzhanay Arevalo 21535220\">\n",
    "<a href =\"https://github.com/JuanCarlosRondeau?tab=repositories\">\n",
    "<img src=\"https://media-exp1.licdn.com/dms/image/C4D0BAQEu_Aa76fcmPw/company-logo_200_200/0/1630998679429?e=2159024400&v=beta&t=2feC9GG7RWCWizTqsK5HzDWB1TL2DOQuAVwnMf6FFvk\" title = \"M41\" alt=\"UE\" width=\"110\" height=\"110\" style=\"float:right;vertical-align:centre\">"
   ]
  },
  {
   "cell_type": "code",
   "execution_count": 6,
   "id": "e756b873-be47-44d2-94c2-adfa308841eb",
   "metadata": {},
   "outputs": [],
   "source": [
    "import multiprocessing as mp, threading as th"
   ]
  },
  {
   "cell_type": "code",
   "execution_count": 2,
   "id": "8aceddfe-1c1c-4c6f-a2a1-4ac32405ec3c",
   "metadata": {},
   "outputs": [
    {
     "data": {
      "text/plain": [
       "12"
      ]
     },
     "execution_count": 2,
     "metadata": {},
     "output_type": "execute_result"
    }
   ],
   "source": [
    "mp.cpu_count()"
   ]
  },
  {
   "cell_type": "code",
   "execution_count": 4,
   "id": "27ec1fe2-9315-4dd0-80a8-4ce3ca113e91",
   "metadata": {},
   "outputs": [
    {
     "data": {
      "text/plain": [
       "6"
      ]
     },
     "execution_count": 4,
     "metadata": {},
     "output_type": "execute_result"
    }
   ],
   "source": [
    "th.active_count()"
   ]
  },
  {
   "cell_type": "code",
   "execution_count": 5,
   "id": "5ce5f098-f2e9-4ad5-9b00-413b1319d9a0",
   "metadata": {},
   "outputs": [
    {
     "data": {
      "text/plain": [
       "[<_MainThread(MainThread, started 2084)>,\n",
       " <Thread(IOPub, started daemon 19784)>,\n",
       " <Heartbeat(Heartbeat, started daemon 17876)>,\n",
       " <ControlThread(Control, started daemon 19788)>,\n",
       " <HistorySavingThread(IPythonHistorySavingThread, started 23164)>,\n",
       " <ParentPollerWindows(Thread-4, started daemon 17712)>]"
      ]
     },
     "execution_count": 5,
     "metadata": {},
     "output_type": "execute_result"
    }
   ],
   "source": [
    "th.enumerate()\n"
   ]
  },
  {
   "cell_type": "code",
   "execution_count": null,
   "id": "26c4317c-57b9-42e0-ac53-71eed7bc8a08",
   "metadata": {},
   "outputs": [],
   "source": []
  }
 ],
 "metadata": {
  "kernelspec": {
   "display_name": "Python 3 (ipykernel)",
   "language": "python",
   "name": "python3"
  },
  "language_info": {
   "codemirror_mode": {
    "name": "ipython",
    "version": 3
   },
   "file_extension": ".py",
   "mimetype": "text/x-python",
   "name": "python",
   "nbconvert_exporter": "python",
   "pygments_lexer": "ipython3",
   "version": "3.10.7"
  }
 },
 "nbformat": 4,
 "nbformat_minor": 5
}
