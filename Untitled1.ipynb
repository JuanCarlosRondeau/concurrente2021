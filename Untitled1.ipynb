{
 "cells": [
  {
   "cell_type": "code",
   "execution_count": 1,
   "id": "3b05227d-67bd-4daf-a80f-512102f69d1a",
   "metadata": {},
   "outputs": [
    {
     "ename": "SyntaxError",
     "evalue": "invalid syntax (1176556215.py, line 1)",
     "output_type": "error",
     "traceback": [
      "\u001b[1;36m  Input \u001b[1;32mIn [1]\u001b[1;36m\u001b[0m\n\u001b[1;33m    tipos de operaciones sobre files\u001b[0m\n\u001b[1;37m          ^\u001b[0m\n\u001b[1;31mSyntaxError\u001b[0m\u001b[1;31m:\u001b[0m invalid syntax\n"
     ]
    }
   ],
   "source": [
    "tipos de operaciones sobre files"
   ]
  },
  {
   "cell_type": "code",
   "execution_count": 11,
   "id": "0e26005b-04f9-45b6-b196-80e775b51238",
   "metadata": {},
   "outputs": [
    {
     "name": "stdin",
     "output_type": "stream",
     "text": [
      "Ingresa tu nickname:  1\n",
      "Escribe el mensaje:  1\n",
      "Ingresa tu nickname:  2\n",
      "Escribe el mensaje:  2\n",
      "Ingresa tu nickname:  32\n",
      "Escribe el mensaje:  3\n",
      "Ingresa tu nickname:  4\n",
      "Escribe el mensaje:  4\n",
      "Ingresa tu nickname:  5\n",
      "Escribe el mensaje:  5\n",
      "Ingresa tu nickname:  6\n",
      "Escribe el mensaje:  6\n"
     ]
    }
   ],
   "source": [
    "salir=False\n",
    "contador=0\n",
    "while salir==False:\n",
    "    with open(\"21816176.txt\",\"a\") as f:\n",
    "        contador=contador+1\n",
    "        if contador<=6:\n",
    "            \n",
    "            nick = input(\"Ingresa tu nickname: \")\n",
    "            if nick!=\"salir\":\n",
    "                msg=input(\"Escribe el mensaje: \")\n",
    "                f.write(nick+ \": \" + msg + \"\\n\")\n",
    "            else: \n",
    "                salir=True\n",
    "        else:\n",
    "            salir=True\n",
    "        "
   ]
  },
  {
   "cell_type": "code",
   "execution_count": 10,
   "id": "ff61f11f-fbee-4ffc-b7b3-f0625fd55713",
   "metadata": {},
   "outputs": [
    {
     "data": {
      "text/plain": [
       "juanca: heeeeeey\n",
       "marcos: suuuuudaaaaa\n",
       "jaun ca: fdnjvns\n",
       "adnfjkjkas: djflsfs\n",
       "fa: dads\n",
       "asdasd: asda\n",
       "marcos: queeeeeedate\n",
       "jc: que la noche sin ti dueeeeeleeee\n",
       "nicole: tensadad\n",
       "dd: dd\n",
       "dd: dd\n",
       "dd: dd\n",
       "dd: dd\n",
       "d: dd\n"
      ]
     },
     "metadata": {},
     "output_type": "display_data"
    }
   ],
   "source": [
    "\n",
    "less 21816176.txt"
   ]
  },
  {
   "cell_type": "code",
   "execution_count": null,
   "id": "2d17f7c6-da18-4d35-bc9a-4922aaad2e61",
   "metadata": {},
   "outputs": [],
   "source": []
  },
  {
   "cell_type": "code",
   "execution_count": 13,
   "id": "0e14b6fe-c747-4b61-be15-9b6a3c4e3824",
   "metadata": {},
   "outputs": [
    {
     "name": "stdout",
     "output_type": "stream",
     "text": [
      "3\n",
      "6\n",
      "9\n"
     ]
    }
   ],
   "source": [
    "hola=0\n",
    "while True:\n",
    "    hola=hola+3\n",
    "    if hola>10:\n",
    "        break\n",
    "    print(hola)"
   ]
  },
  {
   "cell_type": "code",
   "execution_count": null,
   "id": "d494358a-f9e3-47df-8174-c060b1ce46fa",
   "metadata": {},
   "outputs": [],
   "source": []
  }
 ],
 "metadata": {
  "kernelspec": {
   "display_name": "Python 3 (ipykernel)",
   "language": "python",
   "name": "python3"
  },
  "language_info": {
   "codemirror_mode": {
    "name": "ipython",
    "version": 3
   },
   "file_extension": ".py",
   "mimetype": "text/x-python",
   "name": "python",
   "nbconvert_exporter": "python",
   "pygments_lexer": "ipython3",
   "version": "3.10.7"
  }
 },
 "nbformat": 4,
 "nbformat_minor": 5
}
