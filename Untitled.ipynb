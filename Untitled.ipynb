{
 "cells": [
  {
   "cell_type": "markdown",
   "id": "7434a55b-3177-4b10-a3ef-f891da2c55da",
   "metadata": {},
   "source": [
    "\n",
    "<!-- PROFILE LINK -->\n",
    "\n",
    "<h1 style = \"text-align:center; font-size: 30px\">PROGRAMACIÓN CONCURRENTE Y DISTRIBUIDA</h1>\n",
    "<a href =\"https://github.com/JuanCarlosRondeau\">\n",
    "<img src=\"https://avatars.githubusercontent.com/u/61326801?v=4\" style=\"float:left;vertical-align:centre\" width=\"110\" height=\"110\" title = \"Christian Vlaldimir Sucuzhanay Arevalo 21535220\">\n",
    "<a href =\"https://github.com/JuanCarlosRondeau?tab=repositories\">\n",
    "<img src=\"https://media-exp1.licdn.com/dms/image/C4D0BAQEu_Aa76fcmPw/company-logo_200_200/0/1630998679429?e=2159024400&v=beta&t=2feC9GG7RWCWizTqsK5HzDWB1TL2DOQuAVwnMf6FFvk\" title = \"M41\" alt=\"UE\" width=\"110\" height=\"110\" style=\"float:right;vertical-align:centre\">"
   ]
  },
  {
   "cell_type": "markdown",
   "id": "9c175640-c401-453e-b71d-391fc3a782c0",
   "metadata": {},
   "source": [
    "# Hands on 01"
   ]
  },
  {
   "cell_type": "markdown",
   "id": "c8864686-308b-4e39-99da-621c7e809baf",
   "metadata": {},
   "source": [
    "## Env. Setup, important commands."
   ]
  },
  {
   "cell_type": "code",
   "execution_count": 3,
   "id": "a236bb82-d3ea-4b3c-a5e5-27197ca3e73c",
   "metadata": {},
   "outputs": [
    {
     "name": "stdout",
     "output_type": "stream",
     "text": [
      " El volumen de la unidad C no tiene etiqueta.\n",
      " El n£mero de serie del volumen es: BA71-5B82\n",
      "\n",
      " Directorio de C:\\Users\\pitu\\concurrente2023\n",
      "\n",
      "\n",
      " Directorio de C:\\Users\\pitu\\concurrente2023\n",
      "\n",
      "\n",
      " Directorio de C:\\Users\\pitu\\concurrente2023\n",
      "\n",
      "\n",
      " Directorio de C:\\Users\\pitu\\concurrente2023\n",
      "\n",
      "\n",
      " Directorio de C:\\Users\\pitu\\concurrente2023\n",
      "\n",
      "\n",
      " Directorio de C:\\Users\\pitu\\concurrente2023\n",
      "\n"
     ]
    },
    {
     "name": "stderr",
     "output_type": "stream",
     "text": [
      "No se encuentra el archivo\n"
     ]
    }
   ],
   "source": [
    "ls # Ver contenido de la carpeta"
   ]
  },
  {
   "cell_type": "code",
   "execution_count": 4,
   "id": "f46f810d-922d-4f00-b46f-eefc159eb19d",
   "metadata": {},
   "outputs": [
    {
     "data": {
      "text/plain": [
       "'C:\\\\Users\\\\pitu\\\\concurrente2023'"
      ]
     },
     "execution_count": 4,
     "metadata": {},
     "output_type": "execute_result"
    }
   ],
   "source": [
    "pwd # Dónde me encuentro\n"
   ]
  },
  {
   "cell_type": "code",
   "execution_count": 5,
   "id": "373e652b-6e94-4fa4-889d-fa1e11be1989",
   "metadata": {},
   "outputs": [
    {
     "name": "stdout",
     "output_type": "stream",
     "text": [
      "On branch master\n",
      "\n",
      "No commits yet\n",
      "\n",
      "Untracked files:\n",
      "  (use \"git add <file>...\" to include in what will be committed)\n",
      "\t.ipynb_checkpoints/\n",
      "\tUntitled.ipynb\n",
      "\n",
      "nothing added to commit but untracked files present (use \"git add\" to track)\n"
     ]
    }
   ],
   "source": [
    "!git status"
   ]
  },
  {
   "cell_type": "code",
   "execution_count": 6,
   "id": "aa7f777b-7c01-4b41-9e8e-d71a1fc58b5c",
   "metadata": {},
   "outputs": [],
   "source": [
    "import os"
   ]
  },
  {
   "cell_type": "code",
   "execution_count": 8,
   "id": "01aec551-abde-40da-8d0c-8f4ddc191629",
   "metadata": {},
   "outputs": [
    {
     "data": {
      "text/plain": [
       "12"
      ]
     },
     "execution_count": 8,
     "metadata": {},
     "output_type": "execute_result"
    }
   ],
   "source": [
    "os.cpu_count() #get total cores"
   ]
  },
  {
   "cell_type": "code",
   "execution_count": 12,
   "id": "276c04cf-ce42-4458-9689-a0293efc75bc",
   "metadata": {},
   "outputs": [
    {
     "data": {
      "text/plain": [
       "29092"
      ]
     },
     "execution_count": 12,
     "metadata": {},
     "output_type": "execute_result"
    }
   ],
   "source": [
    "os.getpid() #get process id"
   ]
  },
  {
   "cell_type": "code",
   "execution_count": 13,
   "id": "95ea2139-45b2-44ed-bba0-6400cc37625e",
   "metadata": {},
   "outputs": [],
   "source": [
    "import platform as pl"
   ]
  },
  {
   "cell_type": "code",
   "execution_count": 14,
   "id": "da69d15d-101c-40a8-b8ba-f0f393d3f16b",
   "metadata": {},
   "outputs": [
    {
     "data": {
      "text/plain": [
       "'3.10.7'"
      ]
     },
     "execution_count": 14,
     "metadata": {},
     "output_type": "execute_result"
    }
   ],
   "source": [
    "pl.python_version()"
   ]
  },
  {
   "cell_type": "code",
   "execution_count": 15,
   "id": "1aa506e2-e017-45f4-9386-7275c7abb48f",
   "metadata": {},
   "outputs": [
    {
     "data": {
      "text/plain": [
       "'C:\\\\Users\\\\pitu\\\\concurrente2023'"
      ]
     },
     "execution_count": 15,
     "metadata": {},
     "output_type": "execute_result"
    }
   ],
   "source": [
    "pwd"
   ]
  },
  {
   "cell_type": "code",
   "execution_count": null,
   "id": "f79f43d4-fab5-448d-af31-42c652ab3dc3",
   "metadata": {},
   "outputs": [],
   "source": []
  }
 ],
 "metadata": {
  "kernelspec": {
   "display_name": "Python 3 (ipykernel)",
   "language": "python",
   "name": "python3"
  },
  "language_info": {
   "codemirror_mode": {
    "name": "ipython",
    "version": 3
   },
   "file_extension": ".py",
   "mimetype": "text/x-python",
   "name": "python",
   "nbconvert_exporter": "python",
   "pygments_lexer": "ipython3",
   "version": "3.10.7"
  }
 },
 "nbformat": 4,
 "nbformat_minor": 5
}
