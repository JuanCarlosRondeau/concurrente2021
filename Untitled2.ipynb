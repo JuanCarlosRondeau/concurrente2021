{
 "cells": [
  {
   "cell_type": "code",
   "execution_count": 13,
   "id": "575505ca",
   "metadata": {},
   "outputs": [
    {
     "name": "stdout",
     "output_type": "stream",
     "text": [
      "[[37788, 36024], [28517, 34237]]\n",
      "[[0, 0], [0, 0]]\n",
      "\n",
      "\n",
      "Matriz  A y B se han multiplicado con exito en SECUENCIAL ha tardado  0.0010004043579101562  y en PARALELO  0.20299744606018066\n"
     ]
    }
   ],
   "source": [
    "    "
   ]
  },
  {
   "cell_type": "code",
   "execution_count": 10,
   "id": "0e232930",
   "metadata": {},
   "outputs": [
    {
     "data": {
      "text/plain": [
       "[[30, 36, 42], [66, 81, 96], [102, 126, 150]]"
      ]
     },
     "execution_count": 10,
     "metadata": {},
     "output_type": "execute_result"
    }
   ],
   "source": [
    "def sec_mult(A, B): # f() que calcula la mult. en secuencial, como toda la vida se ha hecho \n",
    "    C = [[0] * n_col_B for i in range(n_fil_A)] # Crear y poblar la matrix  C = A*B\n",
    "    for i in range(n_fil_A): # Hago la multiplicacion de AxB = C, i para iterar sobre las filas de A\n",
    "        for j in range(n_col_B): # j para iterar sobre las columnas de B\n",
    "            for k in range(n_col_A): # k para iterar en C\n",
    "                C[i][j] += A[i][k] * B[k][j] # Aqui se hace la multiplicación y guardo en C.\n",
    "    return C\n",
    "\n",
    "A=[[1,2,3],[4,5,6],[7,8,9]]\n",
    "B=[[1,2,3],[4,5,6],[7,8,9]]\n",
    "n_fil_A = len(A) # Obtengo num de filas de A \n",
    "n_col_A = len(A[0]) # Obtengo num de colunmas de A \n",
    "n_fil_B = len(B) # Obtengo num de filas de B\n",
    "n_col_B = len(B[0])\n",
    "sec_mult(A,B)"
   ]
  },
  {
   "cell_type": "code",
   "execution_count": 17,
   "id": "69d2ef46",
   "metadata": {},
   "outputs": [],
   "source": [
    "hola=str(3)\n",
    "adios=int(hola)+3"
   ]
  },
  {
   "cell_type": "code",
   "execution_count": 21,
   "id": "c4a4502b",
   "metadata": {},
   "outputs": [
    {
     "name": "stdout",
     "output_type": "stream",
     "text": [
      "2\n"
     ]
    }
   ],
   "source": [
    "adios=[1,2,3]\n",
    "print(adios[1])"
   ]
  },
  {
   "cell_type": "code",
   "execution_count": null,
   "id": "24e6a1e4",
   "metadata": {},
   "outputs": [],
   "source": []
  }
 ],
 "metadata": {
  "kernelspec": {
   "display_name": "Python 3 (ipykernel)",
   "language": "python",
   "name": "python3"
  },
  "language_info": {
   "codemirror_mode": {
    "name": "ipython",
    "version": 3
   },
   "file_extension": ".py",
   "mimetype": "text/x-python",
   "name": "python",
   "nbconvert_exporter": "python",
   "pygments_lexer": "ipython3",
   "version": "3.10.7"
  }
 },
 "nbformat": 4,
 "nbformat_minor": 5
}
